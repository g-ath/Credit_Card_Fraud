{
 "cells": [
  {
   "cell_type": "code",
   "execution_count": 87,
   "id": "4c83465e-e416-4c4c-9035-cdcfa0d1ca4d",
   "metadata": {},
   "outputs": [],
   "source": [
    "import pandas as pd\n",
    "import numpy as np\n",
    "import matplotlib.pyplot as plt\n",
    "from sklearn.model_selection import train_test_split"
   ]
  },
  {
   "cell_type": "code",
   "execution_count": 88,
   "id": "011afea6-2311-45f5-8e64-7286824f8b04",
   "metadata": {},
   "outputs": [],
   "source": [
    "strat_train = pd.read_csv('final_75%_train.csv')"
   ]
  },
  {
   "cell_type": "code",
   "execution_count": 90,
   "id": "ab276287-ce42-449c-a253-ec05fdfe0af4",
   "metadata": {},
   "outputs": [],
   "source": [
    "def model_prep(strat_train):\n",
    "    strat_train = strat_train.sort_values(by = 'User', axis=0, ascending=True)\n",
    "    strat_train = strat_train.reset_index()\n",
    "    strat_train = strat_train.drop(['Unnamed: 0', 'User', 'index', 'Card'], axis = 1)\n",
    "    # Location = pd.get_dummies(strat_train['Merchant State'])\n",
    "    # strat_train = pd.concat([strat_train, Location], axis=1, join=\"inner\")\n",
    "    # strat_train = strat_train.drop('Merchant State', axis = 1)\n",
    "    column_to_reorder = strat_train.pop('Is Fraud?')\n",
    "    strat_train.insert(len(strat_train.columns), 'Is Fraud?', column_to_reorder)\n",
    "    return strat_train  "
   ]
  },
  {
   "cell_type": "code",
   "execution_count": 91,
   "id": "b7be677f-f0eb-455a-824c-69864e9ebcaa",
   "metadata": {},
   "outputs": [],
   "source": [
    "c_train = model_prep(strat_train)"
   ]
  },
  {
   "cell_type": "code",
   "execution_count": 92,
   "id": "d371e75c-4557-46d0-9b13-fa33c0db5373",
   "metadata": {
    "tags": []
   },
   "outputs": [
    {
     "data": {
      "text/plain": [
       "Index(['Time', 'Use Chip', 'Gender', 'Num Credit Cards', 'Card Brand',\n",
       "       'Card Type', 'Has Chip', 'Cards Issued', 'Card Age', 'PC_Income_binned',\n",
       "       'SQR_Debt_binned', 'PIN_Binned', 'Year_Income_binned',\n",
       "       'SQR_Credit_binned', 'Log_Amount_binned', 'FICO binned', 'Error',\n",
       "       'Current_Age_Binned', 'MCC_Binned', 'Unemploy_Bin', 'Is Fraud?'],\n",
       "      dtype='object')"
      ]
     },
     "execution_count": 92,
     "metadata": {},
     "output_type": "execute_result"
    }
   ],
   "source": [
    "c_train.columns"
   ]
  },
  {
   "cell_type": "code",
   "execution_count": 93,
   "id": "bc81543b-001a-435e-aeee-0b40b871efaf",
   "metadata": {},
   "outputs": [],
   "source": [
    "X = c_train.iloc[:,:-1]\n",
    "y = c_train.iloc[:,-1]"
   ]
  },
  {
   "cell_type": "code",
   "execution_count": 137,
   "id": "37b68c6d-3ac6-4b3c-9a60-e9ec4accb520",
   "metadata": {},
   "outputs": [],
   "source": [
    "X_train, X_test, y_train, y_test = train_test_split(X, y, stratify=y, test_size=0.25)"
   ]
  },
  {
   "cell_type": "code",
   "execution_count": 141,
   "id": "79b46ee3-490e-4828-81bb-aece642c5c7c",
   "metadata": {},
   "outputs": [
    {
     "data": {
      "text/html": [
       "<div>\n",
       "<style scoped>\n",
       "    .dataframe tbody tr th:only-of-type {\n",
       "        vertical-align: middle;\n",
       "    }\n",
       "\n",
       "    .dataframe tbody tr th {\n",
       "        vertical-align: top;\n",
       "    }\n",
       "\n",
       "    .dataframe thead th {\n",
       "        text-align: right;\n",
       "    }\n",
       "</style>\n",
       "<table border=\"1\" class=\"dataframe\">\n",
       "  <thead>\n",
       "    <tr style=\"text-align: right;\">\n",
       "      <th></th>\n",
       "      <th>Time</th>\n",
       "      <th>Gender</th>\n",
       "      <th>Num Credit Cards</th>\n",
       "      <th>Card Brand</th>\n",
       "      <th>Card Type</th>\n",
       "      <th>Has Chip</th>\n",
       "      <th>Cards Issued</th>\n",
       "      <th>Card Age</th>\n",
       "      <th>SQR_Debt_binned</th>\n",
       "      <th>PIN_Binned</th>\n",
       "      <th>Year_Income_binned</th>\n",
       "      <th>SQR_Credit_binned</th>\n",
       "      <th>FICO binned</th>\n",
       "      <th>Error</th>\n",
       "      <th>Unemployment Rate</th>\n",
       "      <th>Transaction Type</th>\n",
       "      <th>Transaction Amount</th>\n",
       "      <th>Merchant Type</th>\n",
       "      <th>Income</th>\n",
       "      <th>Cardholder Age</th>\n",
       "    </tr>\n",
       "  </thead>\n",
       "  <tbody>\n",
       "    <tr>\n",
       "      <th>42253</th>\n",
       "      <td>0.0</td>\n",
       "      <td>1</td>\n",
       "      <td>5</td>\n",
       "      <td>2</td>\n",
       "      <td>2</td>\n",
       "      <td>1</td>\n",
       "      <td>1</td>\n",
       "      <td>31</td>\n",
       "      <td>0</td>\n",
       "      <td>1</td>\n",
       "      <td>0</td>\n",
       "      <td>0</td>\n",
       "      <td>4</td>\n",
       "      <td>1</td>\n",
       "      <td>2</td>\n",
       "      <td>2</td>\n",
       "      <td>0</td>\n",
       "      <td>4</td>\n",
       "      <td>2</td>\n",
       "      <td>5</td>\n",
       "    </tr>\n",
       "    <tr>\n",
       "      <th>8384</th>\n",
       "      <td>1.0</td>\n",
       "      <td>0</td>\n",
       "      <td>5</td>\n",
       "      <td>2</td>\n",
       "      <td>1</td>\n",
       "      <td>0</td>\n",
       "      <td>1</td>\n",
       "      <td>92</td>\n",
       "      <td>0</td>\n",
       "      <td>1</td>\n",
       "      <td>0</td>\n",
       "      <td>1</td>\n",
       "      <td>3</td>\n",
       "      <td>1</td>\n",
       "      <td>0</td>\n",
       "      <td>2</td>\n",
       "      <td>0</td>\n",
       "      <td>4</td>\n",
       "      <td>1</td>\n",
       "      <td>6</td>\n",
       "    </tr>\n",
       "    <tr>\n",
       "      <th>71511</th>\n",
       "      <td>0.0</td>\n",
       "      <td>0</td>\n",
       "      <td>1</td>\n",
       "      <td>2</td>\n",
       "      <td>1</td>\n",
       "      <td>1</td>\n",
       "      <td>2</td>\n",
       "      <td>81</td>\n",
       "      <td>3</td>\n",
       "      <td>1</td>\n",
       "      <td>0</td>\n",
       "      <td>1</td>\n",
       "      <td>4</td>\n",
       "      <td>1</td>\n",
       "      <td>0</td>\n",
       "      <td>2</td>\n",
       "      <td>3</td>\n",
       "      <td>6</td>\n",
       "      <td>2</td>\n",
       "      <td>5</td>\n",
       "    </tr>\n",
       "    <tr>\n",
       "      <th>55359</th>\n",
       "      <td>1.0</td>\n",
       "      <td>1</td>\n",
       "      <td>5</td>\n",
       "      <td>2</td>\n",
       "      <td>1</td>\n",
       "      <td>1</td>\n",
       "      <td>2</td>\n",
       "      <td>150</td>\n",
       "      <td>0</td>\n",
       "      <td>1</td>\n",
       "      <td>0</td>\n",
       "      <td>2</td>\n",
       "      <td>2</td>\n",
       "      <td>1</td>\n",
       "      <td>1</td>\n",
       "      <td>0</td>\n",
       "      <td>3</td>\n",
       "      <td>6</td>\n",
       "      <td>4</td>\n",
       "      <td>6</td>\n",
       "    </tr>\n",
       "    <tr>\n",
       "      <th>51266</th>\n",
       "      <td>1.0</td>\n",
       "      <td>0</td>\n",
       "      <td>3</td>\n",
       "      <td>2</td>\n",
       "      <td>1</td>\n",
       "      <td>0</td>\n",
       "      <td>2</td>\n",
       "      <td>8</td>\n",
       "      <td>1</td>\n",
       "      <td>2</td>\n",
       "      <td>0</td>\n",
       "      <td>1</td>\n",
       "      <td>3</td>\n",
       "      <td>1</td>\n",
       "      <td>1</td>\n",
       "      <td>2</td>\n",
       "      <td>2</td>\n",
       "      <td>4</td>\n",
       "      <td>2</td>\n",
       "      <td>2</td>\n",
       "    </tr>\n",
       "  </tbody>\n",
       "</table>\n",
       "</div>"
      ],
      "text/plain": [
       "       Time  Gender  Num Credit Cards  Card Brand  Card Type  Has Chip  \\\n",
       "42253   0.0       1                 5           2          2         1   \n",
       "8384    1.0       0                 5           2          1         0   \n",
       "71511   0.0       0                 1           2          1         1   \n",
       "55359   1.0       1                 5           2          1         1   \n",
       "51266   1.0       0                 3           2          1         0   \n",
       "\n",
       "       Cards Issued  Card Age  SQR_Debt_binned  PIN_Binned  \\\n",
       "42253             1        31                0           1   \n",
       "8384              1        92                0           1   \n",
       "71511             2        81                3           1   \n",
       "55359             2       150                0           1   \n",
       "51266             2         8                1           2   \n",
       "\n",
       "       Year_Income_binned  SQR_Credit_binned  FICO binned  Error  \\\n",
       "42253                   0                  0            4      1   \n",
       "8384                    0                  1            3      1   \n",
       "71511                   0                  1            4      1   \n",
       "55359                   0                  2            2      1   \n",
       "51266                   0                  1            3      1   \n",
       "\n",
       "       Unemployment Rate  Transaction Type  Transaction Amount  Merchant Type  \\\n",
       "42253                  2                 2                   0              4   \n",
       "8384                   0                 2                   0              4   \n",
       "71511                  0                 2                   3              6   \n",
       "55359                  1                 0                   3              6   \n",
       "51266                  1                 2                   2              4   \n",
       "\n",
       "       Income  Cardholder Age  \n",
       "42253       2               5  \n",
       "8384        1               6  \n",
       "71511       2               5  \n",
       "55359       4               6  \n",
       "51266       2               2  "
      ]
     },
     "execution_count": 141,
     "metadata": {},
     "output_type": "execute_result"
    }
   ],
   "source": [
    "X_train.head()"
   ]
  },
  {
   "cell_type": "code",
   "execution_count": 139,
   "id": "88008cfd-762d-458f-b2e6-8adabc80123f",
   "metadata": {},
   "outputs": [],
   "source": [
    "X_test['Unemployment Rate'] = X_test['Unemploy_Bin']\n",
    "X_test['Transaction Type'] = X_test['Use Chip']\n",
    "X_test['Transaction Amount'] = X_test['Log_Amount_binned']\n",
    "X_test['Merchant Type'] = X_test['MCC_Binned']\n",
    "X_test['Income'] = X_test['PC_Income_binned']\n",
    "X_test['Cardholder Age'] = X_test['Current_Age_Binned']\n",
    "X_test = X_test.drop(['Unemploy_Bin','Use Chip','Log_Amount_binned','MCC_Binned','PC_Income_binned','Current_Age_Binned'], axis = 1)"
   ]
  },
  {
   "cell_type": "code",
   "execution_count": 140,
   "id": "32fb37b1-0da6-4dc2-bc7d-dce283b12c37",
   "metadata": {},
   "outputs": [],
   "source": [
    "X_train['Unemployment Rate'] = X_train['Unemploy_Bin']\n",
    "X_train['Transaction Type'] = X_train['Use Chip']\n",
    "X_train['Transaction Amount'] = X_train['Log_Amount_binned']\n",
    "X_train['Merchant Type'] = X_train['MCC_Binned']\n",
    "X_train['Income'] = X_train['PC_Income_binned']\n",
    "X_train['Cardholder Age'] = X_train['Current_Age_Binned']\n",
    "X_train = X_train.drop(['Unemploy_Bin','Use Chip','Log_Amount_binned','MCC_Binned','PC_Income_binned','Current_Age_Binned'], axis = 1)"
   ]
  },
  {
   "cell_type": "code",
   "execution_count": 96,
   "id": "6a59ec69-79fd-4d08-8a75-76e49459c8c3",
   "metadata": {},
   "outputs": [],
   "source": [
    "from sklearn.linear_model import LogisticRegression\n",
    "from sklearn.metrics import confusion_matrix, f1_score, accuracy_score, classification_report\n",
    "from imblearn.over_sampling import RandomOverSampler\n",
    "from imblearn.under_sampling import RandomUnderSampler\n",
    "import xgboost as xgb\n",
    "from xgboost import plot_tree"
   ]
  },
  {
   "cell_type": "code",
   "execution_count": 142,
   "id": "c654dad0-45bc-4a79-b286-716a4b66269e",
   "metadata": {},
   "outputs": [],
   "source": [
    "ros = RandomOverSampler(random_state=0)\n",
    "ros.fit(X_train, y_train)\n",
    "X_O_resampled1, y_O_resampled1 = ros.fit_resample(X_train, y_train)"
   ]
  },
  {
   "cell_type": "code",
   "execution_count": 143,
   "id": "c5625164-e5d9-48ef-b01f-57eb3a047b93",
   "metadata": {},
   "outputs": [],
   "source": [
    "# xgboost - binned unemployment and label encoded transaction type (chip, swipe, online)\n",
    "model1 = xgb.XGBClassifier().fit(X_O_resampled1, y_O_resampled1)"
   ]
  },
  {
   "cell_type": "code",
   "execution_count": 144,
   "id": "7681aeff-ea1d-459a-9db4-24524a655761",
   "metadata": {},
   "outputs": [],
   "source": [
    "y_pred1 = model1.predict(X_test)"
   ]
  },
  {
   "cell_type": "code",
   "execution_count": 145,
   "id": "a41c192e-cc91-43f8-be38-80c81dc98303",
   "metadata": {},
   "outputs": [
    {
     "data": {
      "text/plain": [
       "array([[20405,  2020],\n",
       "       [ 1016,  5681]])"
      ]
     },
     "execution_count": 145,
     "metadata": {},
     "output_type": "execute_result"
    }
   ],
   "source": [
    "confusion_matrix(y_test, y_pred1)"
   ]
  },
  {
   "cell_type": "code",
   "execution_count": 146,
   "id": "f9f80a2b-9eea-4d5b-90b4-b376a066219e",
   "metadata": {},
   "outputs": [
    {
     "name": "stdout",
     "output_type": "stream",
     "text": [
      "              precision    recall  f1-score   support\n",
      "\n",
      "         0.0       0.95      0.91      0.93     22425\n",
      "         1.0       0.74      0.85      0.79      6697\n",
      "\n",
      "    accuracy                           0.90     29122\n",
      "   macro avg       0.85      0.88      0.86     29122\n",
      "weighted avg       0.90      0.90      0.90     29122\n",
      "\n"
     ]
    }
   ],
   "source": [
    "print(classification_report(y_test, y_pred1))"
   ]
  },
  {
   "cell_type": "code",
   "execution_count": 147,
   "id": "c406b055-8171-42e7-ac12-18cf9d971ca5",
   "metadata": {},
   "outputs": [],
   "source": [
    "plt.rcParams.update({'figure.figsize': (12.0, 12.0)})\n",
    "plt.rcParams.update({'font.size': 14})"
   ]
  },
  {
   "cell_type": "code",
   "execution_count": 148,
   "id": "461d7144-ec01-4908-b72b-268431543696",
   "metadata": {},
   "outputs": [
    {
     "data": {
      "image/png": "[encoded data removed]",
      "text/plain": [
       "<Figure size 864x864 with 1 Axes>"
      ]
     },
     "metadata": {
      "needs_background": "light"
     },
     "output_type": "display_data"
    }
   ],
   "source": [
    "sorted_idx = model1.feature_importances_.argsort()\n",
    "plt.barh(X_test.columns[sorted_idx], model1.feature_importances_[sorted_idx])\n",
    "plt.xlabel(\"Feature Importance\")\n",
    "plt.ylabel('Feature')\n",
    "plt.savefig('XGBoost_Feature_Importance.png')"
   ]
  },
  {
   "cell_type": "code",
   "execution_count": 74,
   "id": "e117640b-1324-4673-be72-f75cb65e7170",
   "metadata": {},
   "outputs": [],
   "source": [
    "# xgboost\n",
    "model1 = xgb.XGBClassifier().fit(X_O_resampled1, y_O_resampled1)"
   ]
  },
  {
   "cell_type": "code",
   "execution_count": 75,
   "id": "86d1c3e0-936e-4248-a1de-48b74448ff2d",
   "metadata": {},
   "outputs": [],
   "source": [
    "y_pred1 = model1.predict(X_test)"
   ]
  },
  {
   "cell_type": "code",
   "execution_count": 76,
   "id": "0df2ab80-5f69-4b96-88b2-1f150bcf7d5a",
   "metadata": {},
   "outputs": [
    {
     "data": {
      "text/plain": [
       "array([[14061,   776],\n",
       "       [  374,  1591]])"
      ]
     },
     "execution_count": 76,
     "metadata": {},
     "output_type": "execute_result"
    }
   ],
   "source": [
    "confusion_matrix(y_test, y_pred1)"
   ]
  },
  {
   "cell_type": "code",
   "execution_count": 77,
   "id": "420011ea-3d06-49fe-9028-6bcbc83d6375",
   "metadata": {},
   "outputs": [
    {
     "name": "stdout",
     "output_type": "stream",
     "text": [
      "              precision    recall  f1-score   support\n",
      "\n",
      "         0.0       0.97      0.95      0.96     14837\n",
      "         1.0       0.67      0.81      0.73      1965\n",
      "\n",
      "    accuracy                           0.93     16802\n",
      "   macro avg       0.82      0.88      0.85     16802\n",
      "weighted avg       0.94      0.93      0.93     16802\n",
      "\n"
     ]
    }
   ],
   "source": [
    "print(classification_report(y_test, y_pred1))"
   ]
  },
  {
   "cell_type": "code",
   "execution_count": 78,
   "id": "ce6548b1-ce29-4ac9-9f9c-5d41049656db",
   "metadata": {},
   "outputs": [],
   "source": [
    "plt.rcParams.update({'figure.figsize': (12.0, 12.0)})\n",
    "plt.rcParams.update({'font.size': 14})"
   ]
  },
  {
   "cell_type": "code",
   "execution_count": 79,
   "id": "c9f3f17f-0f9d-4af6-839c-3dc91466a221",
   "metadata": {},
   "outputs": [
    {
     "data": {
      "image/png": "[encoded data removed]",
      "text/plain": [
       "<Figure size 864x864 with 1 Axes>"
      ]
     },
     "metadata": {
      "needs_background": "light"
     },
     "output_type": "display_data"
    }
   ],
   "source": [
    "sorted_idx = model1.feature_importances_.argsort()\n",
    "plt.barh(X_test.columns[sorted_idx], model1.feature_importances_[sorted_idx])\n",
    "plt.xlabel(\"Feature Importance\")\n",
    "plt.ylabel('Feature')\n",
    "plt.savefig('XGBoost_Feature_Importance.png')"
   ]
  },
  {
   "cell_type": "code",
   "execution_count": 98,
   "id": "2b55b56f-bc0e-469a-b926-d22fb9ab1cf8",
   "metadata": {},
   "outputs": [],
   "source": [
    "# xgboost - binned unemployment and label encoded transaction type (chip, swipe, online)\n",
    "model = xgb.XGBClassifier().fit(X_train, y_train)"
   ]
  },
  {
   "cell_type": "code",
   "execution_count": 99,
   "id": "fd2954df-7dcb-4f05-8b94-cf61c7d08d1a",
   "metadata": {},
   "outputs": [],
   "source": [
    "y_pred = model.predict(X_test)"
   ]
  },
  {
   "cell_type": "code",
   "execution_count": 100,
   "id": "e67dfec7-1187-4f0d-9114-7d3ee6101b67",
   "metadata": {},
   "outputs": [
    {
     "data": {
      "text/plain": [
       "array([[21520,   905],\n",
       "       [ 1729,  4968]])"
      ]
     },
     "execution_count": 100,
     "metadata": {},
     "output_type": "execute_result"
    }
   ],
   "source": [
    "confusion_matrix(y_test, y_pred)"
   ]
  },
  {
   "cell_type": "code",
   "execution_count": 102,
   "id": "23407d83-3099-4242-9d88-d17432bcfe00",
   "metadata": {},
   "outputs": [
    {
     "name": "stdout",
     "output_type": "stream",
     "text": [
      "              precision    recall  f1-score   support\n",
      "\n",
      "         0.0       0.93      0.96      0.94     22425\n",
      "         1.0       0.85      0.74      0.79      6697\n",
      "\n",
      "    accuracy                           0.91     29122\n",
      "   macro avg       0.89      0.85      0.87     29122\n",
      "weighted avg       0.91      0.91      0.91     29122\n",
      "\n"
     ]
    }
   ],
   "source": [
    "print(classification_report(y_test, y_pred))"
   ]
  },
  {
   "cell_type": "code",
   "execution_count": 80,
   "id": "fd9671c6-0ec4-4826-938e-c1b0550b172d",
   "metadata": {},
   "outputs": [],
   "source": [
    "# xgboost\n",
    "model = xgb.XGBClassifier().fit(X_train, y_train)"
   ]
  },
  {
   "cell_type": "code",
   "execution_count": 81,
   "id": "0d58b650-fdee-4e2f-a09a-fd5f81b394dd",
   "metadata": {},
   "outputs": [],
   "source": [
    "y_pred = model.predict(X_test)"
   ]
  },
  {
   "cell_type": "code",
   "execution_count": 82,
   "id": "03336ca2-2d60-4e69-aa4d-c8a18b74cd43",
   "metadata": {},
   "outputs": [
    {
     "data": {
      "text/plain": [
       "array([[14750,    87],\n",
       "       [  672,  1293]])"
      ]
     },
     "execution_count": 82,
     "metadata": {},
     "output_type": "execute_result"
    }
   ],
   "source": [
    "confusion_matrix(y_test, y_pred)"
   ]
  },
  {
   "cell_type": "code",
   "execution_count": 86,
   "id": "779adff0-22f4-4622-9a7f-d067d9c0b22e",
   "metadata": {},
   "outputs": [
    {
     "name": "stdout",
     "output_type": "stream",
     "text": [
      "              precision    recall  f1-score   support\n",
      "\n",
      "         0.0       0.96      0.99      0.97     14837\n",
      "         1.0       0.94      0.66      0.77      1965\n",
      "\n",
      "    accuracy                           0.95     16802\n",
      "   macro avg       0.95      0.83      0.87     16802\n",
      "weighted avg       0.95      0.95      0.95     16802\n",
      "\n"
     ]
    }
   ],
   "source": [
    "print(classification_report(y_test, y_pred))"
   ]
  },
  {
   "cell_type": "code",
   "execution_count": 83,
   "id": "dff20652-dc1c-4164-8499-c3487336e412",
   "metadata": {},
   "outputs": [],
   "source": [
    "plt.rcParams.update({'figure.figsize': (12.0, 12.0)})\n",
    "plt.rcParams.update({'font.size': 14})"
   ]
  },
  {
   "cell_type": "code",
   "execution_count": 84,
   "id": "43a6c230-1ddd-438f-8058-a85b89c3fcce",
   "metadata": {},
   "outputs": [
    {
     "data": {
      "image/png": "[encoded data removed]",
      "text/plain": [
       "<Figure size 864x864 with 1 Axes>"
      ]
     },
     "metadata": {
      "needs_background": "light"
     },
     "output_type": "display_data"
    }
   ],
   "source": [
    "sorted_idx = model.feature_importances_.argsort()\n",
    "plt.barh(X_test.columns[sorted_idx], model.feature_importances_[sorted_idx])\n",
    "plt.xlabel(\"Feature Importance\")\n",
    "plt.ylabel('Feature')\n",
    "plt.savefig('XGBoost_Feature_Importance.png')"
   ]
  },
  {
   "cell_type": "code",
   "execution_count": 32,
   "id": "cc0c0900-6090-4e73-96a1-dba3ea8e0fce",
   "metadata": {},
   "outputs": [],
   "source": [
    "# xgboost\n",
    "model = xgb.XGBClassifier().fit(X_train, y_train)"
   ]
  },
  {
   "cell_type": "code",
   "execution_count": 33,
   "id": "83ddaf18-f3ed-4e12-b8fb-2a5d7d648e63",
   "metadata": {},
   "outputs": [],
   "source": [
    "y_pred = model.predict(X_test)"
   ]
  },
  {
   "cell_type": "code",
   "execution_count": 34,
   "id": "580bc379-3239-4b1d-8525-bef64bd3e58d",
   "metadata": {},
   "outputs": [
    {
     "data": {
      "text/plain": [
       "array([[14750,    87],\n",
       "       [  640,  1325]])"
      ]
     },
     "execution_count": 34,
     "metadata": {},
     "output_type": "execute_result"
    }
   ],
   "source": [
    "confusion_matrix(y_test, y_pred)"
   ]
  },
  {
   "cell_type": "code",
   "execution_count": 35,
   "id": "96c6950c-ebe4-462e-9a04-f522e9737bff",
   "metadata": {},
   "outputs": [
    {
     "name": "stdout",
     "output_type": "stream",
     "text": [
      "              precision    recall  f1-score   support\n",
      "\n",
      "         0.0       0.96      0.99      0.98     14837\n",
      "         1.0       0.94      0.67      0.78      1965\n",
      "\n",
      "    accuracy                           0.96     16802\n",
      "   macro avg       0.95      0.83      0.88     16802\n",
      "weighted avg       0.96      0.96      0.95     16802\n",
      "\n"
     ]
    }
   ],
   "source": [
    "print(classification_report(y_test, y_pred))"
   ]
  },
  {
   "cell_type": "code",
   "execution_count": 36,
   "id": "e6131b8c-1fb1-45f6-a623-2dd3e2ec20da",
   "metadata": {},
   "outputs": [],
   "source": [
    "y_pred = model.predict(X_test)"
   ]
  },
  {
   "cell_type": "code",
   "execution_count": 30,
   "id": "bab1ccb9-d0f7-4d05-a889-380e7008fd6c",
   "metadata": {},
   "outputs": [
    {
     "data": {
      "text/plain": [
       "array([[14016,   821],\n",
       "       [  358,  1607]])"
      ]
     },
     "execution_count": 30,
     "metadata": {},
     "output_type": "execute_result"
    }
   ],
   "source": [
    "confusion_matrix(y_test, y_pred)"
   ]
  },
  {
   "cell_type": "code",
   "execution_count": 31,
   "id": "2ad416ed-f7ba-4342-ac82-64359b8a5ff5",
   "metadata": {
    "tags": []
   },
   "outputs": [
    {
     "name": "stdout",
     "output_type": "stream",
     "text": [
      "              precision    recall  f1-score   support\n",
      "\n",
      "         0.0       0.98      0.94      0.96     14837\n",
      "         1.0       0.66      0.82      0.73      1965\n",
      "\n",
      "    accuracy                           0.93     16802\n",
      "   macro avg       0.82      0.88      0.85     16802\n",
      "weighted avg       0.94      0.93      0.93     16802\n",
      "\n"
     ]
    }
   ],
   "source": [
    "print(classification_report(y_test, y_pred))"
   ]
  },
  {
   "cell_type": "code",
   "execution_count": 52,
   "id": "63287d1b-4d2a-4f8c-8700-325b802fbf92",
   "metadata": {},
   "outputs": [
    {
     "data": {
      "text/plain": [
       "[('Card', 'Num Credit Cards'),\n",
       " ('Use Chip', 'Unemploy_Rate'),\n",
       " ('Num Credit Cards', 'FICO binned'),\n",
       " ('Num Credit Cards', 'Current_Age_Binned'),\n",
       " ('Card Brand', 'Card Type'),\n",
       " ('PC_Income_binned', 'SQR_Debt_binned'),\n",
       " ('PC_Income_binned', 'SQR_Credit_binned'),\n",
       " ('SQR_Debt_binned', 'SQR_Credit_binned')]"
      ]
     },
     "execution_count": 52,
     "metadata": {},
     "output_type": "execute_result"
    }
   ],
   "source": [
    "corr=X_train.corr()\n",
    "high_corr_var=np.where(corr>0.2)\n",
    "high_corr_var=[(corr.columns[x],corr.columns[y]) for x,y in zip(*high_corr_var) if x!=y and x<y]\n",
    "high_corr_var"
   ]
  },
  {
   "cell_type": "code",
   "execution_count": null,
   "id": "2127bd0e-c04c-4b75-b9e6-e5d2f638a4d8",
   "metadata": {},
   "outputs": [],
   "source": []
  }
 ],
 "metadata": {
  "kernelspec": {
   "display_name": "Python 3 (ipykernel)",
   "language": "python",
   "name": "python3"
  },
  "language_info": {
   "codemirror_mode": {
    "name": "ipython",
    "version": 3
   },
   "file_extension": ".py",
   "mimetype": "text/x-python",
   "name": "python",
   "nbconvert_exporter": "python",
   "pygments_lexer": "ipython3",
   "version": "3.8.13"
  }
 },
 "nbformat": 4,
 "nbformat_minor": 5
}
